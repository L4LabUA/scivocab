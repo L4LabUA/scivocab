{
 "cells": [
  {
   "cell_type": "markdown",
   "metadata": {},
   "source": [
    "First, get database from server.\n",
    "\n",
    "1. Make a copy of the old app.db if you want.\n",
    "2. Double click on clickable script copy_scivocab_db_from_server (in this folder) - that will download the database to your computer.\n",
    "3. Run the commands below. "
   ]
  },
  {
   "cell_type": "code",
   "execution_count": null,
   "metadata": {},
   "outputs": [],
   "source": [
    "import pandas as pd\n",
    "from typing import List, Dict\n",
    "from sqlalchemy import create_engine\n",
    "\n",
    "# Increase the maximum number of rows displayed to 999\n",
    "pd.options.display.max_rows=999\n",
    "\n",
    "# Connect to the database\n",
    "engine = create_engine(\"sqlite:///app.db\")\n",
    "\n",
    "def construct_dfs() -> Dict:\n",
    "    \"\"\"Create a dictionary of dataframes, keyed by task name\"\"\"\n",
    "    dfs: Dict = {}\n",
    "\n",
    "    # Populate the dictionary with the dfs\n",
    "    dfs[\"breadth\"] = pd.read_sql(\n",
    "        \"\"\"select\n",
    "            child_id,\n",
    "            word.id as word_id,\n",
    "            breadth_id,\n",
    "            strand_id,\n",
    "            word.target as target_word,\n",
    "            response_type,\n",
    "            position,\n",
    "            timestamp\n",
    "        from breadth_response\n",
    "        inner join word on \n",
    "        breadth_response.word_id=word.id;\"\"\",\n",
    "        engine,\n",
    "    )\n",
    "\n",
    "    dfs[\"depth\"] = pd.read_sql(\n",
    "        \"\"\"select\n",
    "            child_id,\n",
    "            word.id as word_id,\n",
    "            depth_id,\n",
    "            strand_id,\n",
    "            word.target as target_word,\n",
    "            image_0,\n",
    "            image_1,\n",
    "            image_2,\n",
    "            image_3,\n",
    "            timestamp\n",
    "        from depth_response\n",
    "        inner join word on \n",
    "        depth_response.word_id=word.id;\"\"\",\n",
    "        engine,\n",
    "    )\n",
    "\n",
    "    dfs[\"definition\"] = pd.read_sql(\n",
    "        \"\"\"select\n",
    "            child_id,\n",
    "            word.id as word_id,\n",
    "            definition_id,\n",
    "            strand_id,\n",
    "            word.target as target_word,\n",
    "            text,\n",
    "            timestamp\n",
    "        from definition_response\n",
    "        inner join word on\n",
    "        definition_response.word_id=word.id;\"\"\",\n",
    "        engine,\n",
    "    )\n",
    "\n",
    "    return dfs\n",
    "\n",
    "\n",
    "def postprocess_depth_df(df) -> None:\n",
    "    \"\"\"Replace d..._X.jpg with X in the image_N columns\"\"\"\n",
    "    for i in range(4):\n",
    "        df[f\"image_{i}\"] = (\n",
    "            df[f\"image_{i}\"].str.split(\"_\").str[1].str.split(\".\").str[0]\n",
    "        )\n",
    "\n",
    "\n",
    "def calculate_depth_item_score(df):\n",
    "    \"\"\"Calculate the score for each depth task response\"\"\"\n",
    "    return (\n",
    "        sum(\n",
    "            [\n",
    "                df[f\"image_{index}\"] == code\n",
    "                for index, code in zip((0, 1, 2, 3),\n",
    "                                       (\"a\", \"b\", \"c\", \"e\"))\n",
    "            ]\n",
    "        )\n",
    "        / 4\n",
    "    )\n",
    "\n",
    "def make_depth_fractions_df(dfs):\n",
    "    \"\"\"Make a dataframe showing the fractions of depth task image\n",
    "    types that the participants got correct\"\"\"\n",
    "    records=[]\n",
    "\n",
    "    for child_id, df in dfs[\"depth\"].groupby([\"child_id\"]):\n",
    "        df = df[df[\"strand_id\"] != \"training\"]\n",
    "        record = {\"child_id\": child_id}\n",
    "        for index, code in zip((0, 1, 2, 3), (\"a\", \"b\", \"c\", \"e\")):\n",
    "            filtered = df[f\"image_{index}\"] == code\n",
    "            record.update(\n",
    "                {f\"fraction of {code}'s correct\" : filtered.sum() / filtered.count()})\n",
    "        records.append(record)\n",
    "\n",
    "    result_df = pd.DataFrame(records)\n",
    "    return result_df"
   ]
  },
  {
   "cell_type": "code",
   "execution_count": null,
   "metadata": {},
   "outputs": [],
   "source": [
    "dfs = construct_dfs()\n",
    "postprocess_depth_df(dfs[\"depth\"])\n",
    "dfs[\"depth\"][\"score\"] = calculate_depth_item_score(dfs[\"depth\"])"
   ]
  },
  {
   "cell_type": "code",
   "execution_count": null,
   "metadata": {},
   "outputs": [],
   "source": [
    "# Show the breadth task responses\n",
    "dfs[\"breadth\"]"
   ]
  },
  {
   "cell_type": "code",
   "execution_count": null,
   "metadata": {},
   "outputs": [],
   "source": [
    "# Show the depth task responses\n",
    "dfs[\"depth\"]"
   ]
  },
  {
   "cell_type": "code",
   "execution_count": null,
   "metadata": {},
   "outputs": [],
   "source": [
    "# Show the definition task responses\n",
    "dfs[\"definition\"]"
   ]
  },
  {
   "cell_type": "code",
   "execution_count": null,
   "metadata": {},
   "outputs": [],
   "source": [
    "# Make the fractions dataframe\n",
    "fractions_df=make_depth_fractions_df(dfs)\n",
    "\n",
    "# Show the fractions dataframe\n",
    "fractions_df"
   ]
  },
  {
   "cell_type": "code",
   "execution_count": null,
   "metadata": {},
   "outputs": [],
   "source": []
  }
 ],
 "metadata": {
  "kernelspec": {
   "display_name": "Python 3",
   "language": "python",
   "name": "python3"
  },
  "language_info": {
   "codemirror_mode": {
    "name": "ipython",
    "version": 3
   },
   "file_extension": ".py",
   "mimetype": "text/x-python",
   "name": "python",
   "nbconvert_exporter": "python",
   "pygments_lexer": "ipython3",
   "version": "3.7.9"
  }
 },
 "nbformat": 4,
 "nbformat_minor": 4
}
